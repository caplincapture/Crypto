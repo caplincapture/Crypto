{
 "cells": [
  {
   "cell_type": "code",
   "execution_count": 23,
   "metadata": {
    "collapsed": false
   },
   "outputs": [
    {
     "data": {
      "text/plain": [
       "66"
      ]
     },
     "execution_count": 23,
     "metadata": {},
     "output_type": "execute_result"
    }
   ],
   "source": [
    "ord('B')"
   ]
  },
  {
   "cell_type": "code",
   "execution_count": 25,
   "metadata": {
    "collapsed": false
   },
   "outputs": [
    {
     "data": {
      "text/plain": [
       "'1000010'"
      ]
     },
     "execution_count": 25,
     "metadata": {},
     "output_type": "execute_result"
    }
   ],
   "source": [
    "'{0:07b}'.format(66)"
   ]
  },
  {
   "cell_type": "code",
   "execution_count": 50,
   "metadata": {
    "collapsed": false
   },
   "outputs": [
    {
     "name": "stdout",
     "output_type": "stream",
     "text": [
      "[0, 0, 0, 1, 0, 0, 0, 1, 0, 0, 1, 1, 1, 0, 0, 0, 0, 1, 1, 1, 1, 0, 0, 0, 0, 1, 1, 0, 0, 0, 1, 1, 1, 0, 1, 0, 0, 1, 0, 0, 0, 0, 1, 0, 0, 0, 0, 0, 1, 0, 0, 1, 1, 0, 1, 1, 0, 0, 0, 0, 0, 0, 1, 0, 0, 1, 0, 1, 0, 1, 1, 0, 0, 0, 1, 0, 1, 1, 0, 0, 0, 0, 1, 1, 0, 0, 0, 1, 1, 1, 0, 1, 0, 0, 1, 1, 1, 0, 0, 0, 0, 0, 1, 1, 1, 0, 0, 0, 0, 0, 0, 0, 0, 0, 0, 1, 0, 0, 1, 0, 0, 0, 0, 0, 0, 0, 1, 0, 1, 0, 0, 1, 0, 0, 0, 0, 0, 1, 0, 0, 1, 0, 0, 1, 0, 0, 0, 0, 0, 0, 0, 1, 0, 0, 0, 0, 1, 1, 1, 0, 0, 1, 0, 0, 1, 0, 0, 1, 0, 0, 0, 0, 0, 1, 1, 0, 0, 0, 1, 1, 0, 1, 1, 0, 0, 1, 1, 0, 1, 0, 0, 1, 0, 0, 1, 0, 0, 0, 1, 1, 1, 0, 1, 0, 0, 0, 0, 1, 0, 1, 0, 0, 0, 1, 1, 1, 1, 1, 0, 0, 0, 0, 0, 1, 0, 0, 0, 1, 1, 1, 0, 1, 0, 0, 0, 1, 0, 1, 1, 0, 0, 1, 1, 0, 1, 0, 0, 1, 0, 0, 0, 1, 0, 0, 1, 1, 0, 1, 1, 1, 0, 0, 1, 0, 0, 0, 0, 0, 1, 1, 1, 0, 1, 0, 0, 0, 1, 0, 1, 1, 0, 0, 1, 0, 0, 0, 1, 1, 0, 0, 1, 1, 1, 1, 0, 0, 1, 1, 0, 1, 1, 0, 0, 1, 0, 1, 0, 1, 0, 0, 0, 0, 0, 0, 0, 0, 0, 0, 0, 1, 1, 1, 0, 0, 1, 1, 0, 1, 0, 0, 0, 0, 1, 1, 1, 0, 0, 0, 1, 0, 0, 0, 0, 1, 0, 1, 0, 1, 0, 1, 0, 0, 0, 0, 1, 1, 1, 0, 0, 0, 0, 1, 1, 0, 0, 0, 0, 1, 0, 0, 1, 0, 0, 1, 0, 1, 0, 0, 0, 0, 0, 0, 0, 0, 0, 0, 0, 1, 0, 0, 1, 1, 0, 0, 1, 0, 0, 1, 1, 0, 0, 0, 1, 0, 1, 1, 1, 0, 0, 0, 1, 0, 0, 0, 0, 1, 1, 0, 1, 1, 0, 0, 0, 0, 0, 1, 0, 0, 0, 0, 0, 0, 0, 0, 0, 0, 0, 1, 1, 0, 0, 0, 0, 1, 1, 1, 0, 0, 0, 0, 0, 1, 0, 1, 0, 0, 0, 0, 1, 0, 0, 0, 0, 0, 1, 1, 0, 1, 0, 0, 0, 0, 0, 0, 0, 0, 0, 0, 0, 1, 1, 0, 0, 1, 0, 0, 1, 0, 0, 1, 0, 0, 1, 0, 0, 1, 0, 1, 0, 0, 0, 0, 1, 0, 1, 0, 0, 0, 1, 0, 0, 1, 0, 0, 1, 1, 1, 1, 0, 1, 0, 1, 1, 1, 1, 0, 0, 0, 0, 1, 1, 1, 0, 0, 0, 1, 1, 1, 0, 1, 0, 0, 1, 1, 1, 1, 0, 0, 0, 0, 1, 1, 1, 0, 0, 1, 1, 1, 0, 1, 0, 0, 1, 1, 1, 0, 0, 0, 0, 1, 0, 0, 0, 1, 1, 0, 0, 0, 1, 0, 1, 1, 0, 0, 1, 1, 1, 0, 0, 0, 0, 1, 1, 1, 0, 1, 0, 0, 1, 1, 1, 0, 1, 0, 0, 0, 1, 1, 0, 0, 0, 0, 1, 1, 1, 0, 1, 0, 1, 0, 0, 1, 0, 1, 0, 1, 0, 0, 1, 1, 0, 0, 0, 0, 0, 0, 0, 0, 0, 0, 1, 0, 0, 1, 0, 0, 1, 0, 0, 0, 1, 1, 0, 0, 0, 1, 0, 1, 1, 0, 0, 1, 1, 0, 1, 0, 0, 0, 1, 1, 1, 0, 0, 0, 0, 0, 1, 0, 1, 1, 0, 0, 1, 0, 0, 0, 0, 0, 1, 1, 0, 1, 0, 0, 0, 0, 0, 1, 1, 1, 0, 0, 0, 1, 0, 1, 1, 1, 0, 1, 1, 1, 0, 1, 0, 0, 0, 1, 1, 1, 0, 0, 0, 0, 1, 0, 0, 0, 1, 1, 0, 1, 0, 1, 0, 1, 0, 0, 0, 1, 1, 1, 0, 1, 0, 1, 0, 1, 1, 0, 0, 0, 0, 0, 1, 0, 1, 0, 0, 0, 0, 0, 1, 0, 0, 0, 0, 0, 1, 1, 0, 0, 0, 1, 0, 1, 1, 0, 0, 0, 1, 0, 1, 1, 0, 0, 0, 0, 0, 0, 0, 0, 0, 1, 1, 1, 0, 1, 0, 0, 0, 1, 1, 0, 1, 0, 0, 1, 0, 1, 0, 0, 0, 0, 0, 0, 0, 1, 1, 0, 0, 0, 1, 1, 1, 1, 0, 0, 0, 0, 0, 0, 1, 0, 0, 0, 0, 0, 0, 0, 0, 0, 0, 0, 0, 0, 0]\n"
     ]
    }
   ],
   "source": [
    "# Decode the two ciphertexts from the Instructors Box below, \n",
    "# or the C1, C2 variables - which are the same\n",
    "#\n",
    "# We highly recommend that you run your decoding code in the \n",
    "# programming language of your choice outside of the \n",
    "# this environment, as this system does not provide enough \n",
    "# computational resources to successfully decode\n",
    "#\n",
    "# After decoding the two ciphertexts, \n",
    "# replace the plaintext1 and plaintext2 variables below\n",
    "# with the decoded ciphertexts\n",
    "\n",
    "# C1 and C2 are messages in english, \n",
    "# encoded using string_to_bits, with 7bit ASCII\n",
    "# and then XOR'd with a secret key\n",
    "#\n",
    "# In pseudo-code:\n",
    "# C1 = XOR(string_to_bits(plaintext1), secret_key)\n",
    "# C2 = XOR(string_to_bits(plaintext2), secret_key)\n",
    "\n",
    "C1 = \"1010110010011110011111101110011001101100111010001111011101101011101000110010011000000101001110111010010111100100111101001010000011000001010001001001010000000010101001000011100100010011011011011011010111010011000101010111111110010011010111001001010101110001111101010000001011110100000000010010111001111010110000001101010010110101100010011111111011101101001011111001101111101111000100100001000111101111011011001011110011000100011111100001000101111000011101110101110010010100010111101111110011011011001101110111011101100110010100010001100011001010100110001000111100011011001000010101100001110011000000001110001011101111010100101110101000100100010111011000001111001110000011111111111110010111111000011011001010010011100011100001011001101110110001011101011101111110100001111011011000110001011111111101110110101101101001011110110010111101000111011001111\"\n",
    "\n",
    "C2 = \"1011110110100110000001101000010111001000110010000110110001101001111101010000101000110100111010000010011001100100111001101010001001010001000011011001010100001100111011010011111100100101000001001001011001110010010100101011111010001110010010101111110001100010100001110000110001111111001000100001001010100011100100001101010101111000100001111101111110111001000101111111101011001010000100100000001011001001010000101001110101110100001111100001011101100100011000110111110001000100010111110110111010010010011101011111111001011011001010010110100100011001010110110001001000100011011001110111010010010010110100110100000111100001111101111010011000100100110011111011001010101000100000011111010010110111001100011100001111100100110010010001111010111011110110001000111101010110101001110111001110111010011111111010100111000100111001011000111101111101100111011001111\"\n",
    "\n",
    "#####\n",
    "# CHANGE THESE VARIABLES\n",
    "\n",
    "plaintext1 = \"decoded message\"\n",
    "plaintext2 = \"the other decoded message\"\n",
    "\n",
    "# END\n",
    "#############\n",
    "\n",
    "#############\n",
    "# Below is some code that might be useful\n",
    "#\n",
    "\n",
    "BITS = ('0', '1')\n",
    "ASCII_BITS = 7\n",
    "\n",
    "def enquote(s):\n",
    "    return '\"' + s + '\"'\n",
    "\n",
    "def is_letter(c):\n",
    "    o = ord(c)\n",
    "    return ( o >= 65 and o <= 90 ) or ( o >= 97 and o <= 122 )\n",
    "\n",
    "def is_digit(c):\n",
    "    o = ord(c)\n",
    "    return o >= 48 and o <= 57\n",
    "\n",
    "def is_display(c):\n",
    "    o = ord(c)\n",
    "    return o >= 32 and o <= 126\n",
    "\n",
    "def is_display_str(s):\n",
    "    for c in s:\n",
    "        if not is_display(c):\n",
    "            return False\n",
    "    return True\n",
    "\n",
    "def display_bits(b):\n",
    "    \"\"\" converts list of {0, 1}* to string \"\"\"\n",
    "    return ''.join([BITS[e] for e in b])\n",
    "\n",
    "def seq_to_bits(seq):\n",
    "    \"\"\" converts a string of {'0','1'}* to a list of bits \"\"\"\n",
    "    return [0 if b == '0' else 1 for b in seq]\n",
    "\n",
    "def XOR_bit(b1,b2):\n",
    "    \"\"\" XORs a single bit with a single other bit \"\"\"\n",
    "    return 0 if b1 == b2 else 1\n",
    "\n",
    "def XOR(bl1, bl2):\n",
    "    \"\"\" returns the XOR of two bit lists \"\"\"\n",
    "    assert len(bl1) == len(bl2)\n",
    "    return [XOR_bit(bl1[i],bl2[i]) for i in range(len(bl1))]\n",
    "\n",
    "def pad_bits(bits, pad):\n",
    "    \"\"\" pads seq with leading 0s up to length pad \"\"\"\n",
    "    assert len(bits) <= pad\n",
    "    return [0] * (pad - len(bits)) + bits\n",
    "        \n",
    "def convert_to_bits(n):\n",
    "    \"\"\" converts an integer `n` to bit array \"\"\"\n",
    "    result = []\n",
    "    if n == 0:\n",
    "        return [0]\n",
    "    while n > 0:\n",
    "        result = [(n % 2)] + result\n",
    "        n = n / 2\n",
    "    return result\n",
    "\n",
    "def string_to_bits(s):\n",
    "    \"\"\" converts a string to a list of bits \"\"\"\n",
    "    def chr_to_bit(c):\n",
    "        return pad_bits(convert_to_bits(ord(c)), ASCII_BITS)\n",
    "    return [b for group in \n",
    "            map(chr_to_bit, s)\n",
    "            for b in group]\n",
    "\n",
    "def bits_to_num(b):\n",
    "    \"\"\" converts a list of bits to a single number \"\"\"\n",
    "    assert len(b) == ASCII_BITS\n",
    "    value = 0\n",
    "    for e in b:\n",
    "        value = (value * 2) + e\n",
    "    return value\n",
    "\n",
    "def bits_to_char(b):\n",
    "    \"\"\" converts a list of bits to a single char \"\"\"\n",
    "    return chr(bits_to_num(b))\n",
    "\n",
    "def list_to_string(p):\n",
    "    \"\"\" the hell does this do? \"\"\"\n",
    "    return ''.join(p)\n",
    "\n",
    "def bits_to_string(b):\n",
    "    \"\"\" converts a list of bits to the string of characters \"\"\"\n",
    "    return list_to_string([bits_to_char(b[i:i + ASCII_BITS]) \n",
    "                           for i in range(0, len(b), ASCII_BITS)])\n",
    "\n",
    "def bits_to_nums(b):\n",
    "    \"\"\" converts a list of bits to a list of numbers \"\"\"\n",
    "    return [bits_to_num(b[i:i + ASCII_BITS]) \n",
    "            for i in range(0, len(b), ASCII_BITS)]\n",
    "\n",
    "def nums_to_string(lon):\n",
    "    \"\"\" converts a list of numbers to a string \"\"\"\n",
    "    str = \"\"\n",
    "    for i in range(0, len(lon)):\n",
    "        str += chr(lon[i])\n",
    "    return str\n",
    "    \n",
    "def add_word_to_bits(lob,word,pos):\n",
    "    \"\"\" Adds the values of a given word to a list of bits \"\"\"\n",
    "    nums = bits_to_nums(lob)\n",
    "    assert pos + len(word) <= len(nums)\n",
    "    wnums = bits_to_nums(string_to_bits(word))\n",
    "    return [nums[pos+i] + wnums[i] for i in range(0,len(word))]\n",
    "    \n",
    "def xor_word_to_bits(lob,word,pos):\n",
    "    \"\"\" xors the bits of a given word with a list of bits \"\"\"\n",
    "    assert pos + len(word) <= len(lob)/7\n",
    "    wbits = string_to_bits(word)\n",
    "    return [XOR_bit(lob[pos*7+i],wbits[i]) for i in range(0,len(word)*7)]\n",
    "\n",
    "def xor_word_bits_sequence_display(lob,word,display):\n",
    "    \"\"\" xors the bits of a given word with a list of bits sequentially \"\"\"\n",
    "    pos = 0\n",
    "    word = word.title() + ' '\n",
    "    while pos + len(word) <= len(lob)/7:\n",
    "        if pos == 1:\n",
    "            word = ' ' + word.lower()\n",
    "        if pos + len(word) == len(lob)/7:\n",
    "            word = word[:len(word)-1] + '.'\n",
    "        decode = bits_to_string(xor_word_to_bits(lob,word,pos))\n",
    "        if display or is_display_str(decode):\n",
    "            print \"Position:\", pos\n",
    "            print \"Word:\", '\"' + word + '\"'\n",
    "            print '\"' + decode + '\"'\n",
    "            raw_input(\"Press any key to continue...\")\n",
    "        pos += 1\n",
    "\n",
    "def xor_word_bits_sequence(lob,word):\n",
    "    xor_word_bits_sequence_display(lob,word,False)\n",
    "\n",
    "def decrypt(string,pos):\n",
    "    print '->',enquote(bits_to_string(xor_word_to_bits(C1XORC2,string,pos)))\n",
    "\n",
    "C1XORC2 = XOR(seq_to_bits(C1),seq_to_bits(C2))\n",
    "print C1XORC2"
   ]
  },
  {
   "cell_type": "code",
   "execution_count": 48,
   "metadata": {
    "collapsed": false
   },
   "outputs": [
    {
     "name": "stdout",
     "output_type": "stream",
     "text": [
      "39.453125\n"
     ]
    }
   ],
   "source": []
  },
  {
   "cell_type": "code",
   "execution_count": null,
   "metadata": {
    "collapsed": true
   },
   "outputs": [],
   "source": []
  }
 ],
 "metadata": {
  "kernelspec": {
   "display_name": "Python 2",
   "language": "python",
   "name": "python2"
  },
  "language_info": {
   "codemirror_mode": {
    "name": "ipython",
    "version": 2
   },
   "file_extension": ".py",
   "mimetype": "text/x-python",
   "name": "python",
   "nbconvert_exporter": "python",
   "pygments_lexer": "ipython2",
   "version": "2.7.11"
  }
 },
 "nbformat": 4,
 "nbformat_minor": 0
}
