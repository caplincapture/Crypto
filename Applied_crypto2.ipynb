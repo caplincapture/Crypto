{
 "cells": [
  {
   "cell_type": "code",
   "execution_count": 13,
   "metadata": {
    "collapsed": false
   },
   "outputs": [
    {
     "name": "stdout",
     "output_type": "stream",
     "text": [
      "[0, 0, 1, 1, 1, 0, 0, 0, 0, 0, 1, 1, 1, 0, 0, 1, 0, 1, 0, 0, 1, 0, 1, 0, 0, 1, 0, 0, 1, 0, 0, 1, 0, 1, 1, 0, 1, 1, 0, 0, 0, 1, 1, 0, 1, 0, 1, 1, 0, 1, 1, 0, 1, 0, 1, 0, 0, 0, 1, 1, 0, 0, 1, 1, 0, 0, 1, 0, 0, 1, 0, 0, 0, 0, 1, 0, 0, 1, 0, 1, 0, 0, 1, 1, 0, 0, 0, 0, 0, 1, 1, 0, 1, 1, 0, 0, 0, 1, 1, 0, 1, 0, 1, 1, 0, 1, 1, 0, 1, 0, 1, 0, 0, 1, 1, 0, 0, 1, 0, 0, 0, 1, 1, 0, 0, 1, 1, 1]\n",
      "[0, 0, 1, 1, 1, 0, 0, 0, 0, 0, 1, 1, 1, 0, 0, 1, 0, 1, 0, 0, 1, 0, 1, 0, 0, 1, 0, 0, 1, 0, 0, 1, 0, 1, 1, 0, 1, 1, 0, 0, 0, 1, 1, 0, 1, 0, 1, 1, 0, 1, 1, 0, 1, 0, 1, 0, 0, 0, 1, 1, 0, 0, 1, 1, 0, 0, 1, 0, 0, 1, 0, 0, 0, 0, 1, 0, 0, 1, 0, 1, 0, 0, 1, 1, 0, 0, 0, 0, 0, 1, 1, 0, 1, 1, 0, 0, 0, 1, 1, 0, 1, 0, 1, 1, 0, 1, 1, 0, 1, 0, 1, 0, 0, 1, 1, 0, 0, 1, 0, 0, 0, 1, 1, 0, 0, 1, 1, 1]\n",
      "[0, 0, 1, 1, 1, 0, 0, 0, 0, 0, 1, 1, 1, 0, 0, 1, 0, 1, 0, 0, 1, 0, 1, 0, 0, 1, 0, 0, 1, 0, 0, 1, 0, 1, 1, 0, 1, 1, 0, 0, 0, 1, 1, 0, 1, 0, 1, 1, 0, 1, 1, 0, 1, 0, 1, 0, 0, 0, 1, 1, 0, 0, 1, 1, 0, 0, 1, 0, 0, 1, 0, 0, 0, 0, 1, 0, 0, 1, 0, 1, 0, 0, 1, 1, 0, 0, 0, 0, 0, 1, 1, 0, 1, 1, 0, 0, 0, 1, 1, 0, 1, 0, 1, 1, 0, 1, 1, 0, 1, 0, 1, 0, 0, 1, 1, 0, 0, 1, 0, 0, 0, 1, 1, 0, 0, 1, 1, 1]\n"
     ]
    }
   ],
   "source": [
    "# Implement the cipher_block_chaining method below\n",
    "#\n",
    "\n",
    "from Crypto.Cipher import AES\n",
    "\n",
    "# Remember, this is NOT secure cryptology code\n",
    "# This is for fun and education.  Unless you're planning\n",
    "# on taking over the GoldenEye satellites, then we recommend\n",
    "# using this code to protect your plans\n",
    "\n",
    "############\n",
    "# CBC uses a 'black box encoder' as discussed in the lecture\n",
    "#\n",
    "# AES is a very common example of this, which is available\n",
    "# in the Crypto library\n",
    "#\n",
    "# For testing purposes, here is AES and some other, silly, encoders\n",
    "# \n",
    "# These, or others might be used to grade your code\n",
    "# so your implementation should be independent of the encoder used\n",
    "def non_encoder(block, key):\n",
    "    \"\"\"A basic encoder that doesn't actually do anything\"\"\"\n",
    "    return pad_bits_append(block, len(key))\n",
    "\n",
    "def xor_encoder(block, key):\n",
    "    block = pad_bits_append(block, len(key))\n",
    "    cipher = [b ^ k for b, k in zip(block, key)]\n",
    "    return cipher\n",
    "\n",
    "def aes_encoder(block, key):\n",
    "    block = pad_bits_append(block, len(key))\n",
    "    # the pycrypto library expects the key and block in 8 bit ascii \n",
    "    # encoded strings so we have to convert from the bit string\n",
    "    block = bits_to_string(block)\n",
    "    key = bits_to_string(key)\n",
    "    ecb = AES.new(key, AES.MODE_ECB)\n",
    "    return string_to_bits(ecb.encrypt(block))\n",
    "###### END of example encoders ########\n",
    "\n",
    "# this is an example implementation of \n",
    "# the electronic cookbook cipher\n",
    "# illustrating manipulating the plaintext,\n",
    "# key, and init_vec \n",
    "def electronic_cookbook(plaintext, key, block_size, block_enc):\n",
    "    \"\"\"Return the ecb encoding of `plaintext\"\"\"\n",
    "    cipher = []\n",
    "    # break the plaintext into blocks\n",
    "    # and encode each one\n",
    "    for i in range(len(plaintext) / block_size + 1):\n",
    "        start = i * block_size\n",
    "        if start >= len(plaintext):\n",
    "            break\n",
    "        end = min(len(plaintext), (i+1) * block_size)\n",
    "        block = plaintext[start:end]\n",
    "        cipher.extend(block_enc(block, key))\n",
    "    return cipher\n",
    "\n",
    "\n",
    "def cipher_block_chaining(plaintext, key, init_vec, block_size, block_enc):\n",
    "    \"\"\"Return the cbc encoding of `plaintext`\n",
    "    \n",
    "    Args:\n",
    "        plaintext: bits to be encoded\n",
    "        key: bits used as key for the block encoder\n",
    "        init_vec: bits used as the initalization vector for \n",
    "                  the block encoder\n",
    "        block_size: size of the block used by `block_enc`\n",
    "        block_enc: function that encodes a block using `key`\n",
    "    \"\"\"\n",
    "    # Assume `block_enc` takes care of the necessary padding\n",
    "    # if `plaintext` is not a full block\n",
    "    \n",
    "    # return a bit array, something of the form: [0, 1, 1, 1, 0]\n",
    "\n",
    "    ###############\n",
    "    \"\"\"Return the ecb encoding of `plaintext\"\"\"\n",
    "    def xor(x,y):\n",
    "        return [xx^yy for xx,yy in zip(x,y)]\n",
    "    cipher=[]\n",
    "    xor_input=init_vec\n",
    "    print xor_input\n",
    "    for i in range(len(plaintext) / block_size + 1):\n",
    "        start = i * block_size\n",
    "        if start >= len(plaintext):\n",
    "            break\n",
    "        end = min(len(plaintext), (i+1) * block_size)\n",
    "        block = plaintext[start:end]\n",
    "        input_ = xor(xor_input, block)\n",
    "        output = block_enc(input_, key)\n",
    "        xor_input = output\n",
    "        cipher.extend(output) \n",
    "    return cipher\n",
    "\n",
    "    \n",
    "    ####################\n",
    "    \n",
    "def test():\n",
    "    key = string_to_bits('4h8f.093mJo:*9#$')\n",
    "    iv = string_to_bits('89JIlkj3$%0lkjdg')\n",
    "    plaintext = string_to_bits(\"One if by land; two if by sea\")\n",
    "\n",
    "    cipher = cipher_block_chaining(plaintext, key, iv, 128, aes_encoder)\n",
    "    assert bits_to_string(cipher) == '\\xeaJ\\x13t\\x00\\x1f\\xcb\\xf8\\xd2\\x032b\\xd0\\xb6T\\xb2\\xb1\\x81\\xd5h\\x97\\xa0\\xaeogtNi\\xfa\\x08\\xca\\x1e'\n",
    "\n",
    "    cipher = cipher_block_chaining(plaintext, key, iv, 128, non_encoder)\n",
    "    assert bits_to_string(cipher) == 'wW/i\\x05\\rJQ]\\x05\\\\\\r\\x05\\x0e_G\\x03 @Ilkj3$%/hd\\x00\\x00\\x00'\n",
    "\n",
    "    cipher = cipher_block_chaining(plaintext, key, iv, 128, xor_encoder)\n",
    "    assert bits_to_string(cipher) == 'C?\\x17\\x0f+=sb0O37/7|c\\x03 @Ilkj3$%/hd9#$'\n",
    "    \n",
    "###################\n",
    "# Here are some utility functions\n",
    "# that you might find useful\n",
    "\n",
    "BITS = ('0', '1')\n",
    "ASCII_BITS = 8\n",
    "\n",
    "def display_bits(b):\n",
    "    \"\"\"converts list of {0, 1}* to string\"\"\"\n",
    "    return ''.join([BITS[e] for e in b])\n",
    "\n",
    "def seq_to_bits(seq):\n",
    "    return [0 if b == '0' else 1 for b in seq]\n",
    "\n",
    "def pad_bits(bits, pad):\n",
    "    \"\"\"pads seq with leading 0s up to length pad\"\"\"\n",
    "    assert len(bits) <= pad\n",
    "    return [0] * (pad - len(bits)) + bits\n",
    "        \n",
    "def convert_to_bits(n):\n",
    "    \"\"\"converts an integer `n` to bit array\"\"\"\n",
    "    result = []\n",
    "    if n == 0:\n",
    "        return [0]\n",
    "    while n > 0:\n",
    "        result = [(n % 2)] + result\n",
    "        n = n / 2\n",
    "    return result\n",
    "\n",
    "def string_to_bits(s):\n",
    "    def chr_to_bit(c):\n",
    "        return pad_bits(convert_to_bits(ord(c)), ASCII_BITS)\n",
    "    return [b for group in \n",
    "            map(chr_to_bit, s)\n",
    "            for b in group]\n",
    "\n",
    "def bits_to_char(b):\n",
    "    assert len(b) == ASCII_BITS\n",
    "    value = 0\n",
    "    for e in b:\n",
    "        value = (value * 2) + e\n",
    "    return chr(value)\n",
    "    print chr(value)\n",
    "\n",
    "def list_to_string(p):\n",
    "    return ''.join(p)\n",
    "\n",
    "def bits_to_string(b):\n",
    "    return ''.join([bits_to_char(b[i:i + ASCII_BITS]) \n",
    "                    for i in range(0, len(b), ASCII_BITS)])\n",
    "\n",
    "def pad_bits_append(small, size):\n",
    "    # as mentioned in lecture, simply padding with\n",
    "    # zeros is not a robust way way of padding\n",
    "    # as there is no way of knowing the actual length\n",
    "    # of the file, but this is good enough\n",
    "    # for the purpose of this exercise\n",
    "    diff = max(0, size - len(small))\n",
    "    return small + [0] * diff\n",
    "test()"
   ]
  },
  {
   "cell_type": "code",
   "execution_count": 14,
   "metadata": {
    "collapsed": false
   },
   "outputs": [
    {
     "name": "stdout",
     "output_type": "stream",
     "text": [
      "<type 'list'>\n"
     ]
    }
   ],
   "source": [
    "nums=[4292994350, 1536389295, 4042431367, 3384302645, 2035141728, 3694012268, 2800106660, 387169270, 1931368155, \n",
    " 2313027219, 2401988609, 4009711196, 2511867215, 2141921935, 3691424850, 3583068679, 55981814, 3366258802, \n",
    " 2870675337, 1384398332, 2374224221, 1109324721, 3252986718, 259642665, 4065436664, 3169491215, 684847233, \n",
    " 1967950918, 1761103132, 2789617314, 2082902972, 588732123, 323601286, 2343264793, 2766261905, 3585151325, \n",
    " 1894204746, 3632833394, 1940040064, 1146207988, 3511993505, 685735866, 2858571120, 1874842012, 824884701, \n",
    " 3756573615, 2506023712, 4100053623, 2943458514, 820854338, 3100538591, 1990141088, 1731949124, 1334992291, \n",
    " 2646157195, 3375289919, 3700673110, 2540372588, 1239758838, 3045145299, 4070309820, 3231542850, 1308607425, \n",
    " 1320625912, 4292994350, 1536389295, 4042431367, 3384302645, 2035141728, 3694012268, 2800106660, 387169270, \n",
    " 1931368155, 2313027219, 2401988609, 4009711196, 2511867215, 2141921935, 3691424850, 3583068679, 55981814, \n",
    " 3366258802, 2870675337, 1384398332, 2374224221, 1109324721, 3252986718, 259642665, 4065436664, 3169491215, \n",
    " 684847233, 1967950918, 1761103132, 2789617314, 2082902972, 588732123, 323601286, 2343264793, 2766261905, \n",
    " 3585151325, 1894204746, 3632833394, 1940040064, 1146207988, 3511993505, 685735866, 2858571120, 1874842012, \n",
    " 824884701, 3756573615, 2506023712, 4100053623, 2943458514, 820854338, 3100538591, 1990141088, 1731949124, \n",
    " 1334992291, 2646157195, 3375289919, 3700673110, 2540372588, 1239758838, 3045145299, 4070309820, 3231542850]\n",
    "print type(nums)"
   ]
  },
  {
   "cell_type": "code",
   "execution_count": 28,
   "metadata": {
    "collapsed": false
   },
   "outputs": [
    {
     "name": "stdout",
     "output_type": "stream",
     "text": [
      "[3691424850, 2082902972, 2506023712, 1308607425, 3691424850, 2082902972, 2506023712]\n"
     ]
    }
   ],
   "source": [
    "print nums[14::16]\n",
    "d = {x:nums.count(x) for x in nums}\n",
    "#print d"
   ]
  },
  {
   "cell_type": "code",
   "execution_count": 29,
   "metadata": {
    "collapsed": false
   },
   "outputs": [
    {
     "data": {
      "text/plain": [
       "4950"
      ]
     },
     "execution_count": 29,
     "metadata": {},
     "output_type": "execute_result"
    }
   ],
   "source": [
    "sum(range(100))"
   ]
  },
  {
   "cell_type": "code",
   "execution_count": null,
   "metadata": {
    "collapsed": true
   },
   "outputs": [],
   "source": []
  }
 ],
 "metadata": {
  "kernelspec": {
   "display_name": "Python 2",
   "language": "python",
   "name": "python2"
  },
  "language_info": {
   "codemirror_mode": {
    "name": "ipython",
    "version": 2
   },
   "file_extension": ".py",
   "mimetype": "text/x-python",
   "name": "python",
   "nbconvert_exporter": "python",
   "pygments_lexer": "ipython2",
   "version": "2.7.11"
  }
 },
 "nbformat": 4,
 "nbformat_minor": 0
}
