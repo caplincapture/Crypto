{
 "cells": [
  {
   "cell_type": "code",
   "execution_count": 1,
   "metadata": {
    "collapsed": true
   },
   "outputs": [],
   "source": [
    "import random\n",
    "import os\n",
    "from Crypto.Util import number\n",
    "\n",
    "random.seed(os.getpid())\n",
    "\n",
    "def randfunction(N):\n",
    "    # N is in bytes\n",
    "    # pycrypto expects a string\n",
    "    l = []\n",
    "    while N > 0:\n",
    "        l.append(chr(random.getrandbits(8)))\n",
    "        N -= 1\n",
    "    return \"\".join(l)\n",
    "\n",
    "p = number.getPrime(512, randfunction)\n",
    "q = number.getPrime(512, randfunction)\n",
    "n = p*q"
   ]
  },
  {
   "cell_type": "code",
   "execution_count": null,
   "metadata": {
    "collapsed": true
   },
   "outputs": [],
   "source": []
  }
 ],
 "metadata": {
  "kernelspec": {
   "display_name": "Python 2",
   "language": "python",
   "name": "python2"
  },
  "language_info": {
   "codemirror_mode": {
    "name": "ipython",
    "version": 2
   },
   "file_extension": ".py",
   "mimetype": "text/x-python",
   "name": "python",
   "nbconvert_exporter": "python",
   "pygments_lexer": "ipython2",
   "version": "2.7.11"
  }
 },
 "nbformat": 4,
 "nbformat_minor": 0
}
