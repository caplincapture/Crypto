{
 "cells": [
  {
   "cell_type": "code",
   "execution_count": 4,
   "metadata": {
    "collapsed": false
   },
   "outputs": [
    {
     "name": "stdout",
     "output_type": "stream",
     "text": [
      "49276d206b696c6c696e6720796f757220627261696e206c696b65206120706f69736f6e6f7573206d757368726f6f6d 49276d206b696c6c696e6720796f757220627261696e206c696b65206120706f69736f6e6f7573206d757368726f6f6d\n",
      "SSdtIGtpbGxpbmcgeW91ciBicmFpbiBsaWtlIGEgcG9pc29ub3VzIG11c2hyb29t SSdtIGtpbGxpbmcgeW91ciBicmFpbiBsaWtlIGEgcG9pc29ub3VzIG11c2hyb29t\n"
     ]
    }
   ],
   "source": [
    "import binascii\n",
    "import base64\n",
    "import collections\n",
    "import sys\n",
    "import string\n",
    "\n",
    "# Conversion Methods\n",
    "def hextobase64(hexstring):\n",
    "    return base64.b64encode(binascii.a2b_hex(hexstring))\n",
    "\n",
    "def base64tohex(base64string):\n",
    "    return binascii.b2a_hex(base64.b64decode(base64string))\n",
    "\n",
    "def set1():\n",
    "    h = \"49276d206b696c6c696e6720796f757220627261696e206c696b65206120706f69736f6e6f7573206d757368726f6f6d\"\n",
    "    b = \"SSdtIGtpbGxpbmcgeW91ciBicmFpbiBsaWtlIGEgcG9pc29ub3VzIG11c2hyb29t\"\n",
    "\n",
    "    assert(h == base64tohex(b))\n",
    "    assert(b == hextobase64(h))\n",
    "    print h, base64tohex(b)\n",
    "    print b, hextobase64(h)\n",
    "\n",
    "set1()"
   ]
  },
  {
   "cell_type": "code",
   "execution_count": 20,
   "metadata": {
    "collapsed": false
   },
   "outputs": [
    {
     "data": {
      "text/plain": [
       "'746865206b696420646f6e277420706c6179'"
      ]
     },
     "execution_count": 20,
     "metadata": {},
     "output_type": "execute_result"
    }
   ],
   "source": [
    "'''Fixed XOR\n",
    "Write a function that takes two equal-length buffers and produces their XOR combination.\n",
    "\n",
    "If your function works properly, then when you feed it the string:\n",
    "\n",
    "1c0111001f010100061a024b53535009181c\n",
    "... after hex decoding, and when XOR'd against:\n",
    "\n",
    "686974207468652062756c6c277320657965\n",
    "... should produce:\n",
    "\n",
    "746865206b696420646f6e277420706c6179'''\n",
    "from itertools import islice, count\n",
    "\n",
    "first_string=\"1c0111001f010100061a024b53535009181c\"\n",
    "second_string=\"686974207468652062756c6c277320657965\"\n",
    "\n",
    "def xored(hex_a, hex_b):\n",
    "    int_hex_a=int(hex_a, 16)\n",
    "    int_hex_b=int(hex_b, 16)\n",
    "    xor=(int_hex_a^int_hex_b)\n",
    "    xor=hex(xor)\n",
    "    xor=xor.lstrip(\"0x\").rstrip(\"L\")\n",
    "    return xor\n",
    "\n",
    "xored(first_string, second_string)"
   ]
  },
  {
   "cell_type": "code",
   "execution_count": 23,
   "metadata": {
    "collapsed": false
   },
   "outputs": [],
   "source": [
    "'''The hex encoded string:\n",
    "\n",
    "1b37373331363f78151b7f2b783431333d78397828372d363c78373e783a393b3736\n",
    "... has been XOR'd against a single character. Find the key, decrypt the message.\n",
    "\n",
    "You can do this by hand. But don't: write code to do it for you.\n",
    "\n",
    "How? Devise some method for \"scoring\" a piece of English plaintext. Character frequency is a good metric. \n",
    "Evaluate each output and choose the one with the best score.'''\n",
    "\n",
    "hextobase64(\"1b37373331363f78151b7f2b783431333d78397828372d363c78373e783a393b3736\")\n",
    "freqs = {\n",
    "    'a': 0.0651738,\n",
    "    'b': 0.0124248,\n",
    "    'c': 0.0217339,\n",
    "    'd': 0.0349835,\n",
    "    'e': 0.1041442,\n",
    "    'f': 0.0197881,\n",
    "    'g': 0.0158610,\n",
    "    'h': 0.0492888,\n",
    "    'i': 0.0558094,\n",
    "    'j': 0.0009033,\n",
    "    'k': 0.0050529,\n",
    "    'l': 0.0331490,\n",
    "    'm': 0.0202124,\n",
    "    'n': 0.0564513,\n",
    "    'o': 0.0596302,\n",
    "    'p': 0.0137645,\n",
    "    'q': 0.0008606,\n",
    "    'r': 0.0497563,\n",
    "    's': 0.0515760,\n",
    "    't': 0.0729357,\n",
    "    'u': 0.0225134,\n",
    "    'v': 0.0082903,\n",
    "    'w': 0.0171272,\n",
    "    'x': 0.0013692,\n",
    "    'y': 0.0145984,\n",
    "    'z': 0.0007836,\n",
    "    ' ': 0.1918182 \n",
    "}"
   ]
  },
  {
   "cell_type": "code",
   "execution_count": null,
   "metadata": {
    "collapsed": true
   },
   "outputs": [],
   "source": []
  }
 ],
 "metadata": {
  "kernelspec": {
   "display_name": "Python 2",
   "language": "python",
   "name": "python2"
  },
  "language_info": {
   "codemirror_mode": {
    "name": "ipython",
    "version": 2
   },
   "file_extension": ".py",
   "mimetype": "text/x-python",
   "name": "python",
   "nbconvert_exporter": "python",
   "pygments_lexer": "ipython2",
   "version": "2.7.11"
  }
 },
 "nbformat": 4,
 "nbformat_minor": 0
}
